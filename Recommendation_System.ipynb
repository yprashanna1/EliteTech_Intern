{
  "nbformat": 4,
  "nbformat_minor": 0,
  "metadata": {
    "colab": {
      "provenance": [],
      "gpuType": "T4"
    },
    "kernelspec": {
      "name": "python3",
      "display_name": "Python 3"
    },
    "language_info": {
      "name": "python"
    },
    "accelerator": "GPU"
  },
  "cells": [
    {
      "cell_type": "code",
      "source": [
        "!pip install numpy==1.26.4 --quiet"
      ],
      "metadata": {
        "id": "LIzYtHjLRYAp"
      },
      "execution_count": 1,
      "outputs": []
    },
    {
      "cell_type": "code",
      "execution_count": 2,
      "metadata": {
        "colab": {
          "base_uri": "https://localhost:8080/"
        },
        "id": "_XRZccZtOTtg",
        "outputId": "643e75e5-6ef6-4f3c-a4c4-0625c6670f8a"
      },
      "outputs": [
        {
          "output_type": "stream",
          "name": "stdout",
          "text": [
            "Requirement already satisfied: scikit-surprise in /usr/local/lib/python3.11/dist-packages (1.1.4)\n",
            "Requirement already satisfied: joblib>=1.2.0 in /usr/local/lib/python3.11/dist-packages (from scikit-surprise) (1.5.1)\n",
            "Requirement already satisfied: numpy>=1.19.5 in /usr/local/lib/python3.11/dist-packages (from scikit-surprise) (1.26.4)\n",
            "Requirement already satisfied: scipy>=1.6.0 in /usr/local/lib/python3.11/dist-packages (from scikit-surprise) (1.15.3)\n"
          ]
        }
      ],
      "source": [
        "# Install the Surprise library (only needed once in Colab)\n",
        "!pip install scikit-surprise\n",
        "\n",
        "# Import necessary libraries\n",
        "from surprise import SVD, Dataset, Reader\n",
        "from surprise.model_selection import train_test_split\n",
        "from surprise import accuracy\n",
        "import pandas as pd\n",
        "import numpy as np\n",
        "import matplotlib.pyplot as plt"
      ]
    },
    {
      "cell_type": "code",
      "source": [
        "# Load built-in MovieLens 100k dataset\n",
        "data = Dataset.load_builtin('ml-100k')\n",
        "\n",
        "# Split into training and test sets (80/20 split)\n",
        "trainset, testset = train_test_split(data, test_size=0.2, random_state=42)"
      ],
      "metadata": {
        "colab": {
          "base_uri": "https://localhost:8080/"
        },
        "id": "ad5c9udkP3fS",
        "outputId": "117f5fac-c1b9-482a-c1b3-2b467e4c71f4"
      },
      "execution_count": 3,
      "outputs": [
        {
          "output_type": "stream",
          "name": "stdout",
          "text": [
            "Dataset ml-100k could not be found. Do you want to download it? [Y/n] Y\n",
            "Trying to download dataset from https://files.grouplens.org/datasets/movielens/ml-100k.zip...\n",
            "Done! Dataset ml-100k has been saved to /root/.surprise_data/ml-100k\n"
          ]
        }
      ]
    },
    {
      "cell_type": "code",
      "source": [
        "# Initialize SVD model (Singular Value Decomposition)\n",
        "model = SVD(n_factors=50, n_epochs=20, lr_all=0.005, reg_all=0.02)\n",
        "\n",
        "# Train the model on training data\n",
        "model.fit(trainset)"
      ],
      "metadata": {
        "colab": {
          "base_uri": "https://localhost:8080/"
        },
        "id": "JJ6KWS-iQet9",
        "outputId": "aed042d4-781e-4246-e572-7129b868bb7f"
      },
      "execution_count": 4,
      "outputs": [
        {
          "output_type": "execute_result",
          "data": {
            "text/plain": [
              "<surprise.prediction_algorithms.matrix_factorization.SVD at 0x7be654e95bd0>"
            ]
          },
          "metadata": {},
          "execution_count": 4
        }
      ]
    },
    {
      "cell_type": "code",
      "source": [
        "# Generate predictions on the test set\n",
        "predictions = model.test(testset)\n",
        "\n",
        "# Calculate and print RMSE and MAE\n",
        "print(\"Evaluation Metrics on Test Set:\")\n",
        "rmse = accuracy.rmse(predictions)\n",
        "mae = accuracy.mae(predictions)"
      ],
      "metadata": {
        "colab": {
          "base_uri": "https://localhost:8080/"
        },
        "id": "mYbcwLLbQhcH",
        "outputId": "a1feb299-2009-45bf-c721-e07032777d73"
      },
      "execution_count": 5,
      "outputs": [
        {
          "output_type": "stream",
          "name": "stdout",
          "text": [
            "Evaluation Metrics on Test Set:\n",
            "RMSE: 0.9350\n",
            "MAE:  0.7367\n"
          ]
        }
      ]
    },
    {
      "cell_type": "code",
      "source": [
        "# 1) Download & unzip the official MovieLens 100K archive (if not already present)\n",
        "!wget -nc http://files.grouplens.org/datasets/movielens/ml-100k.zip\n",
        "!unzip -o ml-100k.zip\n",
        "\n",
        "# 2) Load ratings from the extracted folder\n",
        "ratings_df = pd.read_csv(\n",
        "    'ml-100k/u.data',\n",
        "    sep='\\t',\n",
        "    names=['user_id','item_id','rating','timestamp'],\n",
        "    engine='python'\n",
        ")\n",
        "\n",
        "# 3) Load movie titles\n",
        "movies_df = pd.read_csv(\n",
        "    'ml-100k/u.item',\n",
        "    sep='|',\n",
        "    encoding='latin-1',\n",
        "    header=None,\n",
        "    names=[\n",
        "        'item_id','title','release_date','video_release','IMDb_URL',\n",
        "        'unknown','Action','Adventure','Animation','Children','Comedy','Crime',\n",
        "        'Documentary','Drama','Fantasy','Film-Noir','Horror','Musical','Mystery',\n",
        "        'Romance','Sci-Fi','Thriller','War','Western'\n",
        "    ],\n",
        "    usecols=['item_id','title'],\n",
        "    engine='python'\n",
        ")\n",
        "\n",
        "# 4) Choose a user for recommendations\n",
        "user_id = '10'  # string for Surprise.predict()\n",
        "\n",
        "# 5) Find all movie IDs, then those the user hasn't rated\n",
        "all_movie_ids = ratings_df['item_id'].unique()\n",
        "rated = ratings_df[ratings_df['user_id']==int(user_id)]['item_id']\n",
        "unrated = [mid for mid in all_movie_ids if mid not in rated.values]\n",
        "\n",
        "# 6) Predict ratings for all unrated movies\n",
        "preds = [(mid, model.predict(user_id, str(mid)).est) for mid in unrated]\n",
        "\n",
        "# 7) Sort by predicted score descending\n",
        "preds.sort(key=lambda x: x[1], reverse=True)\n",
        "\n",
        "# 8) Take top‑10 and merge titles\n",
        "top_n = preds[:10]\n",
        "top_n_df = pd.DataFrame(top_n, columns=['item_id','predicted_rating'])\n",
        "top_n_df = top_n_df.merge(movies_df, on='item_id')[['title','predicted_rating']]\n",
        "\n",
        "# 9) Display recommendations\n",
        "print(f\"\\nTop 10 movie recommendations for User {user_id}:\\n\")\n",
        "print(top_n_df.to_string(index=False))"
      ],
      "metadata": {
        "colab": {
          "base_uri": "https://localhost:8080/"
        },
        "id": "zp7z3JNoQiiI",
        "outputId": "9219ae91-af92-4c10-c78e-543ca0ee706e"
      },
      "execution_count": 9,
      "outputs": [
        {
          "output_type": "stream",
          "name": "stdout",
          "text": [
            "--2025-07-12 15:39:06--  http://files.grouplens.org/datasets/movielens/ml-100k.zip\n",
            "Resolving files.grouplens.org (files.grouplens.org)... 128.101.65.152\n",
            "Connecting to files.grouplens.org (files.grouplens.org)|128.101.65.152|:80... connected.\n",
            "HTTP request sent, awaiting response... 200 OK\n",
            "Length: 4924029 (4.7M) [application/zip]\n",
            "Saving to: ‘ml-100k.zip’\n",
            "\n",
            "ml-100k.zip         100%[===================>]   4.70M  5.39MB/s    in 0.9s    \n",
            "\n",
            "2025-07-12 15:39:07 (5.39 MB/s) - ‘ml-100k.zip’ saved [4924029/4924029]\n",
            "\n",
            "Archive:  ml-100k.zip\n",
            "   creating: ml-100k/\n",
            "  inflating: ml-100k/allbut.pl       \n",
            "  inflating: ml-100k/mku.sh          \n",
            "  inflating: ml-100k/README          \n",
            "  inflating: ml-100k/u.data          \n",
            "  inflating: ml-100k/u.genre         \n",
            "  inflating: ml-100k/u.info          \n",
            "  inflating: ml-100k/u.item          \n",
            "  inflating: ml-100k/u.occupation    \n",
            "  inflating: ml-100k/u.user          \n",
            "  inflating: ml-100k/u1.base         \n",
            "  inflating: ml-100k/u1.test         \n",
            "  inflating: ml-100k/u2.base         \n",
            "  inflating: ml-100k/u2.test         \n",
            "  inflating: ml-100k/u3.base         \n",
            "  inflating: ml-100k/u3.test         \n",
            "  inflating: ml-100k/u4.base         \n",
            "  inflating: ml-100k/u4.test         \n",
            "  inflating: ml-100k/u5.base         \n",
            "  inflating: ml-100k/u5.test         \n",
            "  inflating: ml-100k/ua.base         \n",
            "  inflating: ml-100k/ua.test         \n",
            "  inflating: ml-100k/ub.base         \n",
            "  inflating: ml-100k/ub.test         \n",
            "\n",
            "Top 10 movie recommendations for User 10:\n",
            "\n",
            "                                                 title  predicted_rating\n",
            "                               Schindler's List (1993)          4.977828\n",
            "                                 Close Shave, A (1995)          4.878500\n",
            "Wallace & Gromit: The Best of Aardman Animation (1996)          4.787302\n",
            "                                Shall We Dance? (1996)          4.742730\n",
            "                            Wrong Trousers, The (1993)          4.728942\n",
            "                          To Kill a Mockingbird (1962)          4.716881\n",
            "                                      Boot, Das (1981)          4.677117\n",
            "                                Pather Panchali (1955)          4.605891\n",
            "                              Good Will Hunting (1997)          4.601633\n",
            "                                        Henry V (1989)          4.599746\n"
          ]
        }
      ]
    },
    {
      "cell_type": "code",
      "source": [
        "# 📊 Cell 6: Plot rating distribution in the dataset\n",
        "import matplotlib.pyplot as plt\n",
        "\n",
        "plt.figure(figsize=(6, 4))\n",
        "ratings_df['rating'] \\\n",
        "    .value_counts() \\\n",
        "    .sort_index() \\\n",
        "    .plot(kind='bar', color='skyblue')\n",
        "\n",
        "plt.title(\"Distribution of Ratings in MovieLens 100K\")\n",
        "plt.xlabel(\"Rating\")\n",
        "plt.ylabel(\"Count\")\n",
        "plt.grid(True)\n",
        "plt.show()"
      ],
      "metadata": {
        "colab": {
          "base_uri": "https://localhost:8080/",
          "height": 405
        },
        "id": "TyPpaUc4Qk2P",
        "outputId": "26e70f5b-8260-4adf-8f49-286522a2c725"
      },
      "execution_count": 10,
      "outputs": [
        {
          "output_type": "display_data",
          "data": {
            "text/plain": [
              "<Figure size 600x400 with 1 Axes>"
            ],
            "image/png": "[encoded data removed]"
          },
          "metadata": {}
        }
      ]
    },
    {
      "cell_type": "code",
      "source": [],
      "metadata": {
        "id": "wU--FQ6BTIhX"
      },
      "execution_count": null,
      "outputs": []
    }
  ]
}